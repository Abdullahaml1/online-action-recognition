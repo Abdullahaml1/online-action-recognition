{
 "cells": [
  {
   "cell_type": "markdown",
   "metadata": {},
   "source": [
    "# Building the list_file for our Dataset.\n",
    "\n",
    "We have dataset such as UCF. It contains three splits (training on different training_set and test_set) then copmpute the average for better accuracy.\n",
    "Using these splits, we can access the dataset to build our list file which contains (directory of each video, number of frames and its label)\n",
    "\n",
    "First, we import some important libraries."
   ]
  },
  {
   "cell_type": "code",
   "execution_count": null,
   "metadata": {},
   "outputs": [],
   "source": [
    "import os                         #library to interact with your OS whether it is Windows, Linux or MAC                       \n",
    "import glob                     #library used with os to access all the videos at the same time\n",
    "import random                #random number generator"
   ]
  },
  {
   "cell_type": "markdown",
   "metadata": {},
   "source": [
    "Now, we will define two functions: one for extracting name and label for each video and the other for extracting each video directory and number of frames."
   ]
  },
  {
   "cell_type": "code",
   "execution_count": 10,
   "metadata": {},
   "outputs": [],
   "source": [
    "def SplitsInfoExtract1():\n",
    "    \"\"\"\n",
    "    Extract name&label for each video \n",
    "    output: list of tuples (each tuple has trainlist and testlist) of list of tuple (each tuple has name of the video and its label)\n",
    "    Note: we have three splits for taining and testing\n",
    "    \"\"\"\n",
    "    actionLabel = [x.strip().split() for x in open(r'C:\\Driver E\\Jimy\\Machine_Learning\\Graduation_Project\\UCF_Dataset\\classInd.txt')]  #[[1,'label1'],.....]\n",
    "    actionLabel_dic = {x[1]:int(x[0])-1 for x in actionLabel}            #{'label1':0, 'label2':1 ,...}\n",
    "    \n",
    "    \n",
    "    \n",
    "    def ExtractInfo(line):\n",
    "        \"\"\"\n",
    "        Input: line form testlist or trainlist (eg : ApplyEyeMakeup/v_ApplyEyeMakeup_g08_c01.avi )\n",
    "        Output: the name and the label for this video\n",
    "        \"\"\"\n",
    "        line = line.split('/')\n",
    "        name = line[1].split('.')[0]\n",
    "        label = actionLabel_dic[line[0]]\n",
    "        return name,label\n",
    "    \n",
    "    Name_Label = []\n",
    "    \n",
    "    for i in range(1,4): #looping through the dataset splits to Extract information\n",
    "        trainlist = [ExtractInfo(x) for x in open (r'C:\\Driver E\\Jimy\\Machine_Learning\\Graduation_Project\\UCF_Dataset\\trainlist{:02d}.txt'.format(i))] #Extract info from every video in the trian splits\n",
    "        testlist  = [ExtractInfo(x) for x in open (r'C:\\Driver E\\Jimy\\Machine_Learning\\Graduation_Project\\UCF_Dataset\\testlist{:02d}.txt'.format(i))]  #Extract info from every video in the test splits\n",
    "        Name_Label.append((trainlist,testlist))\n",
    "\n",
    "    return Name_Label"
   ]
  },
  {
   "cell_type": "code",
   "execution_count": 9,
   "metadata": {},
   "outputs": [],
   "source": [
    "def SplitsInfoExtract2(dataset_dir):\n",
    "    '''\n",
    "    Input: dataset directory \n",
    "    Output:RGB_count ---> number of frames in each video stored in a dictionary\n",
    "                Video_dir ---> the directory of each video stored in a dictionary\n",
    "    '''\n",
    "    Framefiles_dir = glob.glob(os.path.join(dataset_dir,'*'))\n",
    "    \n",
    "    RGB_count = {}\n",
    "    Video_dir = {}\n",
    "    for file_dir in Framefiles_dir:\n",
    "        Video_name = file_dir.split('\\\\')[-1]\n",
    "        Frames_list = os.listdir(file_dir)\n",
    "        RGB_count[Video_name] = len(Frames_list)\n",
    "        Video_dir[Video_name] = file_dir\n",
    "        \n",
    "    return RGB_count, Video_dir"
   ]
  },
  {
   "cell_type": "markdown",
   "metadata": {},
   "source": [
    "We've built our two main functions for extracting information from each split. Our list_file is ready to be built now."
   ]
  },
  {
   "cell_type": "code",
   "execution_count": 10,
   "metadata": {},
   "outputs": [],
   "source": [
    "def Build_File_List(dataset_dir, out_dir, splits_num=1, shuffle=False):\n",
    "    \n",
    "    \"\"\"\n",
    "    Inputs:\n",
    "        frames_dir: directory for the frames to be processed (one video at a time)\n",
    "        out_dir: directory where the list_file will be generated\n",
    "        splits_num: number of dataset splits (we will go with 1 split for simplicity)\n",
    "        shuffle: True or False\n",
    "    \"\"\"\n",
    "    Name_Label = SplitsInfoExtract1()\n",
    "    Frames_dir = SplitsInfoExtract2(dataset_dir)\n",
    "    \n",
    "    for i in range(splits_num):\n",
    "        Train_DFL,Test_DFL = MergeInfo(Name_Label,Frames_dir, i+1, shuffle)\n",
    "        open(os.path.join(out_dir, 'rgb_train_FileList{}.txt'.format(i+1)), 'w').writelines(Train_DFL)\n",
    "        open(os.path.join(out_dir, 'rgb_test_FileList{}.txt'.format(i+1)), 'w').writelines(Test_DFL)"
   ]
  },
  {
   "cell_type": "code",
   "execution_count": null,
   "metadata": {},
   "outputs": [],
   "source": []
  }
 ],
 "metadata": {
  "kernelspec": {
   "display_name": "Python 3",
   "language": "python",
   "name": "python3"
  },
  "language_info": {
   "codemirror_mode": {
    "name": "ipython",
    "version": 3
   },
   "file_extension": ".py",
   "mimetype": "text/x-python",
   "name": "python",
   "nbconvert_exporter": "python",
   "pygments_lexer": "ipython3",
   "version": "3.6.5"
  }
 },
 "nbformat": 4,
 "nbformat_minor": 2
}
