{
 "cells": [
  {
   "cell_type": "code",
   "execution_count": null,
   "metadata": {},
   "outputs": [],
   "source": [
    "import os\n",
    "import sys\n",
    "import glob\n",
    "import fnmatch\n",
    "import random\n",
    "os.getcwd()             #Get Current working directory\n",
    "os.listdir(path)        #Show all files into the current directory"
   ]
  },
  {
   "cell_type": "code",
   "execution_count": null,
   "metadata": {},
   "outputs": [],
   "source": [
    "def Build_File_List (dataset_dir , out_dir , splits_num=4 , shuffle=False):\n",
    "    \n",
    "    \"\"\"\n",
    "    frames_dir : directory for the frames to be processed -One video frames-\n",
    "    out_dir    : directory where the code gonna put the list file\n",
    "    rgb_prefix : frames' prefix (eg:frame0012)\n",
    "    splits_num : number of dataset spilts \n",
    "    shuffle    : True = Shuffle , False = Unshuffled\n",
    "    \"\"\"\n",
    "    Name_Label = SpiltsInfoExtract1()\n",
    "    Frames_dir = SpiltsInfoExtract2(dataset_dir)\n",
    "    \n",
    "    for i in range(splits_num):\n",
    "        Train_DFL,Test_DFL = MergeInfo(Name_Label,Frames_dir, i, shuffle)\n",
    "        open(os.path.join(out_dir, 'rgb_train_FileList{}.txt'.format(i+1)), 'w').writelines(Train_DFL)\n",
    "        open(os.path.join(out_dir, 'rgb_test_FileList{}.txt'.format(i+1)), 'w').writelines(Test_DFL)"
   ]
  },
  {
   "cell_type": "code",
   "execution_count": null,
   "metadata": {},
   "outputs": [],
   "source": [
    "def SpiltsInfoExtract1():\n",
    "    \"\"\"\n",
    "    Extract name&label for each video \n",
    "    SplitsInfo [split index-1][trian or test][video index] : the info for the 1st video in 1st train split ('v_ApplyEyeMakeup_g08_c01', 0)\n",
    "    SplitsInfo : List of tuples -Number of tuples = number of spilts (4)- each tuple has 2 lists, each list has 2 tuples, tuple[0] is a trainlist \n",
    "    containing tuples each tuple have the video name and the label for specific video in specific split,tuple[1] is a testlist just like the previous tuple.\n",
    "    \"\"\"\n",
    "    IndClass = [x.strip().split() for x in open('classInd.txt')]  #[['1',classname1],['2',classname2],....]\n",
    "    ClassIndDic = {x[1]:int(x[0])-1 for x in IndClass}            #{classname1:0 , classname2:1 ,...}\n",
    "    \n",
    "    \n",
    "    \n",
    "    def ExtractInfo(line):\n",
    "        \"\"\"\n",
    "        Input  : line form testlist or trainlist (eg : ApplyEyeMakeup/v_ApplyEyeMakeup_g08_c01.avi )\n",
    "        Output : the name and the label for this video\n",
    "        \"\"\"\n",
    "        line = line.split('/')\n",
    "        name = line[1].split('.')[0]\n",
    "        label = ClassIndDic[line[0]]\n",
    "        return name,label\n",
    "    \n",
    "    Name_Label = []\n",
    "    \n",
    "    for i in range(1,5): #looping through the dataset splits to Extract info\n",
    "        trainlist = [ExtractInfo(x) for x in open ('trainlist{:02d}.txt'.format(i))] #Extract info from every video in the trian splits\n",
    "        testlist  = [ExtractInfo(x) for x in open ('testlist{:02d}.txt'.format(i))]  #Extract info from every video in the test splits\n",
    "        Name_Label.append((trainlist,testlist))\n",
    "\n",
    "    return Name_Label"
   ]
  },
  {
   "cell_type": "code",
   "execution_count": null,
   "metadata": {},
   "outputs": [],
   "source": [
    "def SpiltsInfoExtract2(dataset_dir):\n",
    "    '''\n",
    "    Input : dataset directory \n",
    "    Output : RGB_count(dictionary) mapping video names inside the class folder with the number of frames inside\n",
    "             Video_dir (dictionary) mapping video names inside the class folder with the directory for this folder\n",
    "    '''\n",
    "    Framefiles_dir = glob.glob(os.path.join(dataset_dir,'*'))   #List contain all directories for frame files inside a class\n",
    "    \n",
    "    RGB_count = {}\n",
    "    Video_dir = {}\n",
    "    for i,file_dir in enumerate (Framefiles_dir) :\n",
    "        Video_name = file_dir.split('/')[-1]                  #get video name = folder name\n",
    "        Frames_list = os.listdir(file_dir)                    #list contain all frame names inside video folders\n",
    "        RGB_count[Video_name] = len(Frames_list)              #mapping frames num with video names\n",
    "        Video_dir[Video_name] = file_dir                      #mapping video directories with video names\n",
    "                         \n",
    "    return RGB_count,Video_dir"
   ]
  },
  {
   "cell_type": "code",
   "execution_count": null,
   "metadata": {},
   "outputs": [],
   "source": [
    "def MergeInfo(Name_Label,Frames_dir, split_idx, shuffle=False):\n",
    "    '''\n",
    "    Name_Label : The output of SpiltsInfoExtract1\n",
    "    Frames_dir : The Output of SpiltsInfoExtract2\n",
    "    split_inx : 1 to 4 (split number)\n",
    "    return Train_DFL : Huge string every line of it consist of [Dirctory of the video -- number of frames -- label]\n",
    "           Test_DFL  : Huge string every line of it consist of [Dirctory of the video -- number of frames -- label]\n",
    "    '''\n",
    "    Name_Label = Name_Label[split_idx]                               #Specify which split being processed (output: tuple(trainlist,testlist)\n",
    "    train_info =  Name_Label[0]                                      #List of tuples each tuple is (name,label)\n",
    "    test_info  =  Name_Label[1]                                      #List of tuples each tuple is (name,label)\n",
    "    \n",
    "    def DFL (Name_Label):                                            #DFL : Directory , Frames , Label\n",
    "        RGB_list = []\n",
    "        for name_label in Name_Label:                                #For each video in the split\n",
    "            Video_dir = Frames_dir[1][name_label[0]]\n",
    "            RGB_count = Frames_dir[0][name_label[0]]\n",
    "            Label     = name_label[1]\n",
    "            RGB_list.append('{} {} {}\\n'.format(Video_dir, RGB_count, Label))     #packing variables into string -huge one-\n",
    "\n",
    "            if shuffle:\n",
    "                random.shuffle(RGB_list)\n",
    "        return RGB_list\n",
    "    \n",
    "    Train_DFL = DFL(train_info)\n",
    "    Test_DFL  = DFL(test_info)\n",
    "    \n",
    "    return Train_DFL,Test_DFL"
   ]
  }
 ],
 "metadata": {
  "kernelspec": {
   "display_name": "Python 3",
   "language": "python",
   "name": "python3"
  },
  "language_info": {
   "codemirror_mode": {
    "name": "ipython",
    "version": 3
   },
   "file_extension": ".py",
   "mimetype": "text/x-python",
   "name": "python",
   "nbconvert_exporter": "python",
   "pygments_lexer": "ipython3",
   "version": "3.6.6"
  }
 },
 "nbformat": 4,
 "nbformat_minor": 2
}
